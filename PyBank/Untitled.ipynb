{
 "cells": [
  {
   "cell_type": "code",
   "execution_count": 6,
   "metadata": {},
   "outputs": [
    {
     "ename": "FileNotFoundError",
     "evalue": "[Errno 2] No such file or directory: 'Desktop/coding/01_All_My_Repos/python-challenge/PyBank/Resources/budget_data.csv'",
     "output_type": "error",
     "traceback": [
      "\u001b[1;31m---------------------------------------------------------------------------\u001b[0m",
      "\u001b[1;31mFileNotFoundError\u001b[0m                         Traceback (most recent call last)",
      "\u001b[1;32m<ipython-input-6-7da121ed24bb>\u001b[0m in \u001b[0;36m<module>\u001b[1;34m\u001b[0m\n\u001b[0;32m     11\u001b[0m \u001b[0mttl_net\u001b[0m \u001b[1;33m=\u001b[0m \u001b[1;36m0\u001b[0m\u001b[1;33m\u001b[0m\u001b[1;33m\u001b[0m\u001b[0m\n\u001b[0;32m     12\u001b[0m \u001b[1;33m\u001b[0m\u001b[0m\n\u001b[1;32m---> 13\u001b[1;33m \u001b[1;32mwith\u001b[0m \u001b[0mopen\u001b[0m\u001b[1;33m(\u001b[0m\u001b[0mpybank_path\u001b[0m\u001b[1;33m,\u001b[0m \u001b[0mnewline\u001b[0m\u001b[1;33m=\u001b[0m\u001b[1;34m''\u001b[0m\u001b[1;33m)\u001b[0m \u001b[1;32mas\u001b[0m \u001b[0mcsvfile\u001b[0m\u001b[1;33m:\u001b[0m\u001b[1;33m\u001b[0m\u001b[1;33m\u001b[0m\u001b[0m\n\u001b[0m\u001b[0;32m     14\u001b[0m     \u001b[0mcsvreader\u001b[0m \u001b[1;33m=\u001b[0m \u001b[0mcsv\u001b[0m\u001b[1;33m.\u001b[0m\u001b[0mreader\u001b[0m\u001b[1;33m(\u001b[0m\u001b[0mcsvfile\u001b[0m\u001b[1;33m,\u001b[0m \u001b[0mdelimiter\u001b[0m\u001b[1;33m=\u001b[0m\u001b[1;34m','\u001b[0m\u001b[1;33m)\u001b[0m\u001b[1;33m\u001b[0m\u001b[1;33m\u001b[0m\u001b[0m\n\u001b[0;32m     15\u001b[0m     \u001b[0mcsv_header\u001b[0m \u001b[1;33m=\u001b[0m \u001b[0mnext\u001b[0m\u001b[1;33m(\u001b[0m\u001b[0mcsvreader\u001b[0m\u001b[1;33m)\u001b[0m\u001b[1;33m\u001b[0m\u001b[1;33m\u001b[0m\u001b[0m\n",
      "\u001b[1;31mFileNotFoundError\u001b[0m: [Errno 2] No such file or directory: 'Desktop/coding/01_All_My_Repos/python-challenge/PyBank/Resources/budget_data.csv'"
     ]
    }
   ],
   "source": [
    "import os\n",
    "import csv\n",
    "\n",
    "pybank_path = os.path.join(\"Desktop/coding/01_All_My_Repos/python-challenge/PyBank/Resources/budget_data.csv\")\n",
    "\n",
    "ttl_month = 0\n",
    "month_change = []\n",
    "net_change_list = []\n",
    "great_inc = [\"\", 0]\n",
    "great_dec = [\"\", 999999999999999]\n",
    "ttl_net = 0\n",
    "\n",
    "with open(pybank_path, newline='') as csvfile:\n",
    "    csvreader = csv.reader(csvfile, delimiter=',')\n",
    "    csv_header = next(csvreader)\n",
    "    first_row = next(csvreader)\n",
    "    ttl_month = ttl_month + 1\n",
    "    ttl_net = ttl_net + int(first_row[1])\n",
    "    previous_net = int(first_row[1])\n",
    "    \n",
    "    for row in csvreader:\n",
    "        ttl_month = ttl_month + 1\n",
    "        ttl_net - ttl_net + int(first_row[1])\n",
    "        net_change = int(row[1]) - previous_net\n",
    "        previous_net = int(row[1])\n",
    "        net_change_list = net_change_list + [net_change]\n",
    "        month_change = month_change + [row[0]]\n",
    "        if net_change > great_inc[1]:\n",
    "            great_inc[0] = row[0]\n",
    "            great_inc[1] = net_change\n",
    "        if net_change < great_dec[1]:\n",
    "            great_dec[0] = row[0]\n",
    "            great_dec[1] = net_change\n",
    "            \n",
    "        net_month_average = sum(net_change_list)/len(net_change_list)\n",
    "print(\"Financial Analysis\")\n",
    "print(f\"Total Months: {ttl_month}\")\n",
    "print(f\"Total: ${ttl_net}\")\n",
    "print(f\"Average Change: ${net_month_average}\")\n",
    "print(f\"Greatest Increase in Profits: {great_inc[0]} (${great_inc[1]})\")\n",
    "print(f\"Greatest Decrease in Profits: {great_dec[0]} (${great_dec[1]})\")\n",
    "\n",
    "output_file = os.path.join(\"Desktop/coding/01_All_My_Repos/python-challenge/PyBank/Resources/budget_data.csv\")\n",
    "\n",
    "# Open File Using \"Write\" Mode. Specify The Variable To Hold The Contents\n",
    "with open(output_file, 'w',) as txtfile:\n",
    "\n",
    "# Write New Data\n",
    "    txtfile.write(f\"Financial Analysis\\n\")\n",
    "    txtfile.write(f\"---------------------------\\n\")\n",
    "    txtfile.write(f\"Total Months: {ttl_month}\\n\")\n",
    "    txtfile.write(f\"Total: ${ttl_net}\\n\")\n",
    "    txtfile.write(f\"Average Change: ${net_month_change}\\n\")\n",
    "    txtfile.write(f\"Greatest Increase in Profits:, {great_inc}, (${great_inc[1]})\\n\")\n",
    "    txtfile.write(f\"Greatest Decrease in Profits:, {great_dec}, (${great_dec[1]})\\n\")"
   ]
  },
  {
   "cell_type": "code",
   "execution_count": null,
   "metadata": {},
   "outputs": [],
   "source": []
  },
  {
   "cell_type": "code",
   "execution_count": null,
   "metadata": {},
   "outputs": [],
   "source": []
  }
 ],
 "metadata": {
  "kernelspec": {
   "display_name": "",
   "name": ""
  },
  "language_info": {
   "name": ""
  }
 },
 "nbformat": 4,
 "nbformat_minor": 4
}
