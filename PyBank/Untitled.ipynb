{
 "cells": [
  {
   "cell_type": "code",
   "execution_count": 2,
   "metadata": {},
   "outputs": [
    {
     "name": "stdout",
     "output_type": "stream",
     "text": [
      "Financial Analysis\n",
      "Total Months: 86\n",
      "Total: $74638024\n",
      "Average Change: $-2315.1176470588234\n",
      "Greatest Increase in Profits: Feb-2012 ($1926159)\n",
      "Greatest Decrease in Profits: Sep-2013 ($-2196167)\n"
     ]
    }
   ],
   "source": [
    "import os\n",
    "import csv\n",
    "pybank_path = \"Resources/budget_data.csv\"\n",
    "\n",
    "\n",
    "ttl_month = 0\n",
    "month_change = []\n",
    "net_change_list = []\n",
    "great_inc = [\"\", 0]\n",
    "great_dec = [\"\", 999999999999999]\n",
    "ttl_net = 0\n",
    "\n",
    "with open(pybank_path, newline='') as csvfile:\n",
    "    csvreader = csv.reader(csvfile, delimiter=',')\n",
    "    csv_header = next(csvreader)\n",
    "    first_row = next(csvreader)\n",
    "    ttl_month = ttl_month + 1\n",
    "    ttl_net = ttl_net + int(first_row[1])\n",
    "    previous_net = int(first_row[1])\n",
    "    \n",
    "    for row in csvreader:\n",
    "        ttl_month = ttl_month + 1\n",
    "        ttl_net = ttl_net + int(first_row[1])\n",
    "        net_change = int(row[1]) - previous_net\n",
    "        previous_net = int(row[1])\n",
    "        net_change_list = net_change_list + [net_change]\n",
    "        month_change = month_change + [row[0]]\n",
    "        if net_change > great_inc[1]:\n",
    "            great_inc[0] = row[0]\n",
    "            great_inc[1] = net_change\n",
    "        if net_change < great_dec[1]:\n",
    "            great_dec[0] = row[0]\n",
    "            great_dec[1] = net_change\n",
    "            \n",
    "        net_month_average = sum(net_change_list)/len(net_change_list)\n",
    "print(\"Financial Analysis\")\n",
    "print(f\"Total Months: {ttl_month}\")\n",
    "print(f\"Total: ${ttl_net}\")\n",
    "print(f\"Average Change: ${net_month_average}\")\n",
    "print(f\"Greatest Increase in Profits: {great_inc[0]} (${great_inc[1]})\")\n",
    "print(f\"Greatest Decrease in Profits: {great_dec[0]} (${great_dec[1]})\")\n",
    "\n",
    "\n",
    "\n",
    "output = (\n",
    "   f\"\\nFinancial Analysis\\n\"\n",
    "   f\"----------------------------\\n\"\n",
    "   f\"Total Months: {ttl_month}\\n\"\n",
    "   f\"Total: ${ttl_net}\\n\"\n",
    "   f\"Average  Change: ${net_month_average}\\n\"\n",
    "   f\"Greatest Increase in Profits: {great_inc[0]} (${great_inc[1]})\\n\"\n",
    "   f\"Greatest Decrease in Profits: {great_dec[0]} (${great_dec[1]})\\n\")\n",
    "with open(\"output.txt\", 'w') as txt_file:\n",
    "    txt_file.write(output)"
   ]
  },
  {
   "cell_type": "code",
   "execution_count": null,
   "metadata": {},
   "outputs": [],
   "source": []
  }
 ],
 "metadata": {
  "kernelspec": {
   "display_name": "Python 3",
   "language": "python",
   "name": "python3"
  },
  "language_info": {
   "codemirror_mode": {
    "name": "ipython",
    "version": 3
   },
   "file_extension": ".py",
   "mimetype": "text/x-python",
   "name": "python",
   "nbconvert_exporter": "python",
   "pygments_lexer": "ipython3",
   "version": "3.8.5"
  }
 },
 "nbformat": 4,
 "nbformat_minor": 4
}
